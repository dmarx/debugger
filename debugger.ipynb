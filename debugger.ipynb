{
 "cells": [
  {
   "cell_type": "markdown",
   "metadata": {},
   "source": [
    "**To do:**\n",
    "    \n",
    "* Get rid of logging\n",
    "* Add better indentation for pretty printing"
   ]
  },
  {
   "cell_type": "code",
   "execution_count": 59,
   "metadata": {},
   "outputs": [
    {
     "name": "stdout",
     "output_type": "stream",
     "text": [
      "\u001b[48;5;223m [2018-03-20 02:32:54.166560] [TestClass('foo')] 1 \u001b[0m\n",
      "\u001b[48;5;223m [2018-03-20 02:32:54.179088] [TestClass('foo')] 2 \u001b[0m\n",
      "\u001b[48;5;223m [2018-03-20 02:32:54.193600] ... top\n",
      " \u001b[0m\n",
      "\u001b[48;5;223m [2018-03-20 02:32:54.205661] [TestClass('foo')] 3 \u001b[0m\n",
      "\u001b[48;5;223m [2018-03-20 02:32:54.220195] ... arg: 'foo'\n",
      " \u001b[0m\n",
      "\u001b[48;5;223m [2018-03-20 02:32:54.234238] [b = self.msg(arg)] 1 \u001b[0m\n",
      "\u001b[48;5;223m [2018-03-20 02:32:54.247763] [b = self.msg(arg)] 2 \u001b[0m\n",
      "\u001b[48;5;223m [2018-03-20 02:32:54.264312] ... foo: 'foo'\n",
      " \u001b[0m\n",
      "\u001b[48;5;223m [2018-03-20 02:32:54.278349] [b = self.msg(arg)] 3 \u001b[0m\n",
      "\u001b[48;5;223m [2018-03-20 02:32:54.293890] ... b: '~~foo~~'\n",
      " \u001b[0m\n",
      "~~foo~~\n",
      "\u001b[48;5;223m [2018-03-20 02:32:54.305418] [TestClass('foo')] 4 \u001b[0m\n",
      "\u001b[48;5;223m [2018-03-20 02:32:54.321972] ... b: '~~foo~~'\n",
      " \u001b[0m\n",
      "\u001b[48;5;223m [2018-03-20 02:32:54.338515] [self.msg(arg+'bar')] 1 \u001b[0m\n",
      "\u001b[48;5;223m [2018-03-20 02:32:54.352553] [self.msg(arg+'bar')] 2 \u001b[0m\n",
      "\u001b[48;5;223m [2018-03-20 02:32:54.368596] ... foo: 'foobar'\n",
      " \u001b[0m\n",
      "\u001b[48;5;223m [2018-03-20 02:32:54.382601] [self.msg(arg+'bar')] 3 \u001b[0m\n",
      "\u001b[48;5;223m [2018-03-20 02:32:54.402184] ... b: '~~foobar~~'\n",
      " \u001b[0m\n",
      "~~foobar~~\n",
      "\u001b[48;5;223m [2018-03-20 02:32:54.419224] [TestClass('foo')] 5 \u001b[0m\n"
     ]
    },
    {
     "data": {
      "text/plain": [
       "<__main__.TestClass at 0x207b3c068d0>"
      ]
     },
     "execution_count": 59,
     "metadata": {},
     "output_type": "execute_result"
    }
   ],
   "source": [
    "# To do:\n",
    "\n",
    "\n",
    "import inspect\n",
    "#import logging #Do I really wanna use logging for this? Logging is actually turning into sort of a PITA\n",
    "from collections import Counter\n",
    "import re\n",
    "import warnings\n",
    "import pprint\n",
    "import sys\n",
    "\n",
    "# Again... do I really want to use logging here? \n",
    "# It's a simple way to get the timestamp and I like that the messages show as colored (in jupyter), \n",
    "# but otherwise it's sort of a pain. Does all sorts of weird shit with white space.\n",
    "\n",
    "#logging.basicConfig(\n",
    "#    format=\"[%(asctime)s] %(message)s\",\n",
    "#    level=logging.INFO,\n",
    "#    stream=sys.stdout\n",
    "#)\n",
    "\n",
    "class DebugHelper(object):\n",
    "    def __init__(self, parent_logger_name='DebugHelper'):\n",
    "        self.scope_calls = Counter()\n",
    "        #self.logger = logging.getLogger(parent_logger_name)\n",
    "        #self.logger.setLevel(logging.INFO)\n",
    "        \n",
    "        init_call = self._calling_context(2)\n",
    "        self._init_name = re.findall('(\\w+)\\s?=\\s?DebugHelper\\\\(', init_call)[0].strip()\n",
    "    def _pformat(self, v):\n",
    "        \"\"\"pretty print formatting for multi-line outputs\"\"\"\n",
    "        v = pprint.pformat(v)\n",
    "        if '\\n' in v:\n",
    "            v = '\\n' + v\n",
    "        return v\n",
    "    @staticmethod\n",
    "    def _ts():\n",
    "        return str(dt.datetime.now())\n",
    "    def _msg(self, msg_str):\n",
    "        ts = self._ts()\n",
    "        #bgnd = \"\\u001b[45m\"\n",
    "        code = 223 # 224 is the same color jupyter uses for stderr.\n",
    "        bgnd = u\"\\u001b[48;5;\" + str(code) + \"m \"\n",
    "        reset = \"\\u001b[0m\"\n",
    "        print(\"{}[{}] {} {}\".format(bgnd, ts, msg_str, reset))\n",
    "        #self.logger.info(msg)\n",
    "    def msg(self, *args, **kwargs):\n",
    "        \"\"\"Workhorse\"\"\"\n",
    "        scope = self._calling_scope()\n",
    "        self.scope_calls[scope] += 1\n",
    "        n = self.scope_calls[scope]\n",
    "        msg_str = '[{}] {}'.format(scope, n)\n",
    "        #self.logger.info(msg_str)\n",
    "        self._msg(msg_str)\n",
    "        \n",
    "        parts = []\n",
    "        if args:\n",
    "            parts.extend(self._make_argstr(args))\n",
    "        if kwargs:\n",
    "            for k,v in kwargs.items():\n",
    "                parts.append('... {}: {}'.format(k, self._pformat(v)))\n",
    "        for i, msg_str in enumerate(parts):\n",
    "            if i == (len(parts)-1):\n",
    "                msg_str += '\\n'\n",
    "            #self.logger.info(msg_str)\n",
    "            self._msg(msg_str)\n",
    "        #print()\n",
    "    def _calling_context(self, i):\n",
    "        context = inspect.stack()[i].code_context[0].strip()\n",
    "        # Handle comments\n",
    "        if '#' in context:\n",
    "            context, *_ = context.split('#')\n",
    "        return context\n",
    "    def _calling_scope(self):\n",
    "        scope = self._calling_context(4)\n",
    "        if scope == 'exec(code_obj, self.user_global_ns, self.user_ns)':\n",
    "            scope = '__main__'\n",
    "        return scope\n",
    "    def _msg_argnames(self):\n",
    "        src_call = self._calling_context(4)\n",
    "        call_pat = '{}.msg('.format(self._init_name)\n",
    "        _, args1 = src_call.split(call_pat)\n",
    "        args2 = args1.strip()[:-1] # assumes no comments on line\n",
    "        args = args2.split(',')\n",
    "        argnames = []\n",
    "        for a in args:\n",
    "            if a:\n",
    "                if (a[0]==a[-1]) and (a[0] in ('\"', \"'\")):\n",
    "                    argnames.append(None)\n",
    "                elif '=' not in a:\n",
    "                    argnames.append(a)\n",
    "        return argnames\n",
    "    def _make_argstr(self, args):\n",
    "        argnames = self._msg_argnames()\n",
    "        argstrs = []\n",
    "        for argname, arg in zip(argnames, args):\n",
    "            if argname:\n",
    "                argstrs.append('...{}: {}'.format(argname, self._pformat(arg)))\n",
    "            else:\n",
    "                argstrs.append('...{}'.format(arg))\n",
    "        argstrs[0] = '... ' + argstrs[0][3:]\n",
    "        return argstrs\n",
    "    \n",
    "dbgr = DebugHelper()\n",
    "\n",
    "class TestClass(object):\n",
    "    def __init__(self, arg):\n",
    "        dbgr.msg()\n",
    "        dbgr.msg('top')\n",
    "        dbgr.msg(arg)\n",
    "        b = self.msg(arg)\n",
    "        dbgr.msg(b)\n",
    "        self.msg(arg+'bar')\n",
    "        dbgr.msg()\n",
    "    def msg(self, foo):\n",
    "        dbgr.msg()\n",
    "        dbgr.msg(foo)\n",
    "        b = '~~{}~~'.format(foo)\n",
    "        dbgr.msg(b)\n",
    "        print(b)\n",
    "        return b\n",
    "    \n",
    "TestClass('foo')"
   ]
  },
  {
   "cell_type": "code",
   "execution_count": 1,
   "metadata": {},
   "outputs": [],
   "source": [
    "from debugger import DebugHelper"
   ]
  },
  {
   "cell_type": "code",
   "execution_count": 1,
   "metadata": {},
   "outputs": [
    {
     "ename": "IndexError",
     "evalue": "list index out of range",
     "output_type": "error",
     "traceback": [
      "\u001b[1;31m---------------------------------------------------------------------------\u001b[0m",
      "\u001b[1;31mIndexError\u001b[0m                                Traceback (most recent call last)",
      "\u001b[1;32m<ipython-input-1-c7161de6f875>\u001b[0m in \u001b[0;36m<module>\u001b[1;34m()\u001b[0m\n\u001b[0;32m      1\u001b[0m \u001b[1;32mimport\u001b[0m \u001b[0mdebugger\u001b[0m\u001b[1;33m\u001b[0m\u001b[0m\n\u001b[1;32m----> 2\u001b[1;33m \u001b[0mdbgr\u001b[0m \u001b[1;33m=\u001b[0m \u001b[0mdebugger\u001b[0m\u001b[1;33m.\u001b[0m\u001b[0mDebugHelper\u001b[0m\u001b[1;33m(\u001b[0m\u001b[1;33m)\u001b[0m\u001b[1;33m\u001b[0m\u001b[0m\n\u001b[0m\u001b[0;32m      3\u001b[0m \u001b[1;33m\u001b[0m\u001b[0m\n\u001b[0;32m      4\u001b[0m \u001b[1;32mclass\u001b[0m \u001b[0mTestClass\u001b[0m\u001b[1;33m(\u001b[0m\u001b[0mobject\u001b[0m\u001b[1;33m)\u001b[0m\u001b[1;33m:\u001b[0m\u001b[1;33m\u001b[0m\u001b[0m\n\u001b[0;32m      5\u001b[0m     \u001b[1;32mdef\u001b[0m \u001b[0m__init__\u001b[0m\u001b[1;33m(\u001b[0m\u001b[0mself\u001b[0m\u001b[1;33m,\u001b[0m \u001b[0marg\u001b[0m\u001b[1;33m)\u001b[0m\u001b[1;33m:\u001b[0m\u001b[1;33m\u001b[0m\u001b[0m\n",
      "\u001b[1;32m~\\Documents\\Projects\\debugger\\debugger\\debugger.py\u001b[0m in \u001b[0;36m__init__\u001b[1;34m(self, parent_logger_name)\u001b[0m\n\u001b[0;32m     30\u001b[0m \u001b[1;33m\u001b[0m\u001b[0m\n\u001b[0;32m     31\u001b[0m         \u001b[0minit_call\u001b[0m \u001b[1;33m=\u001b[0m \u001b[0mself\u001b[0m\u001b[1;33m.\u001b[0m\u001b[0m_calling_context\u001b[0m\u001b[1;33m(\u001b[0m\u001b[1;36m2\u001b[0m\u001b[1;33m)\u001b[0m\u001b[1;33m\u001b[0m\u001b[0m\n\u001b[1;32m---> 32\u001b[1;33m         \u001b[0mself\u001b[0m\u001b[1;33m.\u001b[0m\u001b[0m_init_name\u001b[0m \u001b[1;33m=\u001b[0m \u001b[0mre\u001b[0m\u001b[1;33m.\u001b[0m\u001b[0mfindall\u001b[0m\u001b[1;33m(\u001b[0m\u001b[1;34m'(\\w+)\\s?=\\s?DebugHelper\\\\('\u001b[0m\u001b[1;33m,\u001b[0m \u001b[0minit_call\u001b[0m\u001b[1;33m)\u001b[0m\u001b[1;33m[\u001b[0m\u001b[1;36m0\u001b[0m\u001b[1;33m]\u001b[0m\u001b[1;33m.\u001b[0m\u001b[0mstrip\u001b[0m\u001b[1;33m(\u001b[0m\u001b[1;33m)\u001b[0m\u001b[1;33m\u001b[0m\u001b[0m\n\u001b[0m\u001b[0;32m     33\u001b[0m         \u001b[1;32mif\u001b[0m \u001b[1;32mnot\u001b[0m \u001b[0mself\u001b[0m\u001b[1;33m.\u001b[0m\u001b[0m_init_name\u001b[0m\u001b[1;33m:\u001b[0m\u001b[1;33m\u001b[0m\u001b[0m\n\u001b[0;32m     34\u001b[0m             \u001b[0mself\u001b[0m\u001b[1;33m.\u001b[0m\u001b[0m_init_name\u001b[0m \u001b[1;33m=\u001b[0m \u001b[0mre\u001b[0m\u001b[1;33m.\u001b[0m\u001b[0mfindall\u001b[0m\u001b[1;33m(\u001b[0m\u001b[1;34m'(\\w+)\\s?=\\s?debugger.DebugHelper\\\\('\u001b[0m\u001b[1;33m,\u001b[0m \u001b[0minit_call\u001b[0m\u001b[1;33m)\u001b[0m\u001b[1;33m[\u001b[0m\u001b[1;36m0\u001b[0m\u001b[1;33m]\u001b[0m\u001b[1;33m.\u001b[0m\u001b[0mstrip\u001b[0m\u001b[1;33m(\u001b[0m\u001b[1;33m)\u001b[0m\u001b[1;33m\u001b[0m\u001b[0m\n",
      "\u001b[1;31mIndexError\u001b[0m: list index out of range"
     ]
    }
   ],
   "source": [
    "import debugger\n",
    "dbgr = debugger.DebugHelper()\n",
    "\n",
    "class TestClass(object):\n",
    "    def __init__(self, arg):\n",
    "        dbgr.msg()\n",
    "        dbgr.msg('top')\n",
    "        dbgr.msg(arg)\n",
    "        b = self.msg(arg)\n",
    "        dbgr.msg(b)\n",
    "        self.msg(arg+'bar')\n",
    "        dbgr.msg()\n",
    "    def msg(self, foo):\n",
    "        dbgr.msg()\n",
    "        dbgr.msg(foo)\n",
    "        b = '~~{}~~'.format(foo)\n",
    "        dbgr.msg(b)\n",
    "        print(b)\n",
    "        return b\n",
    "    \n",
    "TestClass('foo')"
   ]
  },
  {
   "cell_type": "code",
   "execution_count": 33,
   "metadata": {},
   "outputs": [
    {
     "data": {
      "text/plain": [
       "20"
      ]
     },
     "execution_count": 33,
     "metadata": {},
     "output_type": "execute_result"
    }
   ],
   "source": [
    "logging.INFO"
   ]
  },
  {
   "cell_type": "code",
   "execution_count": 35,
   "metadata": {},
   "outputs": [
    {
     "data": {
      "text/plain": [
       "30"
      ]
     },
     "execution_count": 35,
     "metadata": {},
     "output_type": "execute_result"
    }
   ],
   "source": [
    "dbgr.logger.getEffectiveLevel()"
   ]
  },
  {
   "cell_type": "code",
   "execution_count": 40,
   "metadata": {},
   "outputs": [
    {
     "name": "stderr",
     "output_type": "stream",
     "text": [
      "C:\\Users\\shagg\\Anaconda3\\lib\\site-packages\\ipykernel_launcher.py:1: UserWarning: foobar\n",
      "  \"\"\"Entry point for launching an IPython kernel.\n"
     ]
    }
   ],
   "source": [
    "warnings.warn('foobar')"
   ]
  },
  {
   "cell_type": "code",
   "execution_count": 43,
   "metadata": {},
   "outputs": [
    {
     "name": "stdout",
     "output_type": "stream",
     "text": [
      "foo\n",
      "\u001b[45m\n",
      "bar\n",
      "\u001b[0m\n",
      "baz\n"
     ]
    }
   ],
   "source": [
    "# ANSI escape codes\n",
    "#   http://www.lihaoyi.com/post/BuildyourownCommandLinewithANSIescapecodes.html\n",
    "print(\"foo\")\n",
    "#print( u\"\\u001b[31m\")\n",
    "print(\"\\u001b[45m\")\n",
    "print(\"bar\")\n",
    "print (u\"\\u001b[0m\")\n",
    "print(\"baz\")"
   ]
  },
  {
   "cell_type": "code",
   "execution_count": 56,
   "metadata": {},
   "outputs": [
    {
     "data": {
      "text/plain": [
       "<function numpy.core.function_base.linspace>"
      ]
     },
     "execution_count": 56,
     "metadata": {},
     "output_type": "execute_result"
    }
   ],
   "source": [
    "import numpy as np\n",
    "\n",
    "np.linspace"
   ]
  },
  {
   "cell_type": "code",
   "execution_count": 46,
   "metadata": {},
   "outputs": [
    {
     "data": {
      "text/plain": [
       "'2018-03-20 01:01:48.142176'"
      ]
     },
     "execution_count": 46,
     "metadata": {},
     "output_type": "execute_result"
    }
   ],
   "source": [
    "from sklearn.linear_model import LinearRegression\n",
    "import numpy as np\n",
    "\n",
    "m, b = 20, 30\n",
    "x  = np.arange(1000)\n",
    "y1 = m*x + b"
   ]
  }
 ],
 "metadata": {
  "kernelspec": {
   "display_name": "Python 3",
   "language": "python",
   "name": "python3"
  },
  "language_info": {
   "codemirror_mode": {
    "name": "ipython",
    "version": 3
   },
   "file_extension": ".py",
   "mimetype": "text/x-python",
   "name": "python",
   "nbconvert_exporter": "python",
   "pygments_lexer": "ipython3",
   "version": "3.6.3"
  }
 },
 "nbformat": 4,
 "nbformat_minor": 2
}
